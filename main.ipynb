{
 "cells": [
  {
   "cell_type": "code",
   "execution_count": null,
   "metadata": {
    "pycharm": {
     "name": "#%%\n"
    }
   },
   "outputs": [],
   "source": [
    "import pandas as pd\n",
    "from datetime import datetime, date\n",
    "from sklearn.ensemble import AdaBoostRegressor\n",
    "from sklearn.tree import DecisionTreeRegressor\n",
    "import numpy as np\n",
    "from sklearn.preprocessing import StandardScaler, OneHotEncoder\n",
    "from sklearn.pipeline import Pipeline\n",
    "from sklearn.compose import ColumnTransformer\n",
    "import joblib\n",
    "from sklearn.metrics import mean_squared_error\n",
    "import matplotlib.pyplot as plt"
   ]
  },
  {
   "cell_type": "code",
   "execution_count": null,
   "outputs": [],
   "source": [
    "class SFD_Set:\n",
    "    def __init__(self, filename):\n",
    "        self.filename = filename\n",
    "        self.df = pd.read_csv(filename)\n",
    "        self.df_train = None\n",
    "        self.df_test = None\n",
    "        self.y_train = None\n",
    "        self.y_test = None\n",
    "\n",
    "    def split_datetime(self):\n",
    "\n",
    "        # Divide date into Years,Months,Days,Hours\n",
    "        self.df[\"Datetime\"]= self.df[\"Datetime\"].apply(lambda x: datetime.strptime(x, '%m/%d/%Y %I:%M:%S %p'))\n",
    "        self.df[\"Year\"] = self.df[\"Datetime\"].apply(lambda x: int(x.year))\n",
    "        self.df[\"Month\"] = self.df[\"Datetime\"].apply(lambda x: int(x.month))\n",
    "        self.df[\"Day\"] = self.df[\"Datetime\"].apply(lambda x: int(x.day))\n",
    "        self.df[\"Hour\"] = self.df[\"Datetime\"].apply(lambda x: int(x.hour))\n",
    "\n",
    "    def start_year(self, year):\n",
    "        self.df= self.df[self.df[\"Year\"] >= year]\n",
    "\n",
    "    def drop_null_values(self):\n",
    "        self.df.dropna(inplace=True) # drop null values\n",
    "\n",
    "    def sort_df(self):\n",
    "        self.df = self.df.sort_values(by='Datetime') # Sort by Date\n",
    "\n",
    "    def drop_redundant_cols(self):\n",
    "        self.df.drop([\"Address\", \"Type\", \"Report Location\", \"Incident Number\", \"Datetime\"], axis=1, inplace=True)\n",
    "\n",
    "    def train_test_split(self, year):\n",
    "        # We want to predict the hourly call volume of given year\n",
    "        self.df_train = self.df[self.df[\"Year\"] < year]\n",
    "        self.df_test = self.df[self.df[\"Year\"] == year]\n",
    "        self.y_train = self.df_train.pop(\"Hourly Call Volume\")\n",
    "        self.y_test = self.df_test.pop(\"Hourly Call Volume\")"
   ],
   "metadata": {
    "collapsed": false,
    "pycharm": {
     "name": "#%%\n"
    }
   }
  },
  {
   "cell_type": "markdown",
   "source": [
    "# Feature Engineering"
   ],
   "metadata": {
    "collapsed": false,
    "pycharm": {
     "name": "#%% md\n"
    }
   }
  },
  {
   "cell_type": "code",
   "execution_count": null,
   "outputs": [],
   "source": [
    "def create_target_variable(df):\n",
    "    \"\"\"\n",
    "    Creates the target variable: Hourly Call Volume (Number of Calls per hour)\n",
    "    :param df: pd.Dataframe, containing the preprocessed data\n",
    "    :return: df (with target variable)\n",
    "    \"\"\"\n",
    "    y_m_d= df.apply(lambda x: (int(x[\"Year\"]), int(x[\"Month\"]),int(x[\"Day\"]), int(x[\"Hour\"])), axis=1)\n",
    "    hourly_call_volume = df.groupby(by=[\"Year\", \"Month\", \"Day\", \"Hour\"]).count()[\"Latitude\"].to_dict()\n",
    "    df[\"Hourly Call Volume\"] = y_m_d.map(hourly_call_volume)\n",
    "    return df\n",
    "\n",
    "def add_daily_call_volume_feat(df):\n",
    "    \"\"\"\n",
    "    Adds a new feature: Daily Call Volume (Number of calls per day)\n",
    "    :param df: pd.Dataframe, containing the preprocessed data\n",
    "    :return: df (with new feature)\n",
    "    \"\"\"\n",
    "    m_d = df.apply(lambda x: (int(x[\"Year\"]), int(x[\"Month\"]),int(x[\"Day\"])), axis=1)\n",
    "    avg_daily_call_volumes = df.groupby(by=[\"Year\", \"Month\", \"Day\"])[\"Hour\"].count().to_dict() #.apply(lambda x: x/df[\"Year\"].unique().size)\n",
    "    df[\"Daily Call Volume\"] = m_d.map(avg_daily_call_volumes)\n",
    "    return df\n",
    "\n",
    "def get_season(in_datetime):\n",
    "    \"\"\"\n",
    "    Returns season of datetime object\n",
    "    :param in_datetime: datetime.datetime\n",
    "    :return: season (str): winter, spring, summer or fall\n",
    "    \"\"\"\n",
    "    Y = 2000 # dummy leap year to allow input X-02-29 (leap day)\n",
    "    seasons = [('winter', (date(Y,  1,  1),  date(Y,  3, 20))),\n",
    "               ('spring', (date(Y,  3, 21),  date(Y,  6, 20))),\n",
    "               ('summer', (date(Y,  6, 21),  date(Y,  9, 22))),\n",
    "               ('fall', (date(Y,  9, 23),  date(Y, 12, 20))),\n",
    "               ('winter', (date(Y, 12, 21),  date(Y, 12, 31)))]\n",
    "\n",
    "    assert isinstance(in_datetime, datetime), \"Not a datetime object!\"\n",
    "    in_datetime = in_datetime.replace(year=Y)\n",
    "    return next(season for season, (start, end) in seasons\n",
    "                if start <= in_datetime.date() <= end)\n",
    "\n",
    "def create_features(df):\n",
    "    \"\"\"\n",
    "    Creates several new features and returns an Easydict containing the train and test data\n",
    "    :param df: pd.Dataframe, containing preprocessed data\n",
    "    :return: df\n",
    "    \"\"\"\n",
    "    df[\"Season\"]= df[\"Datetime\"].apply(lambda x: get_season(x))\n",
    "    df[\"Weekday\"]= df[\"Datetime\"].apply(lambda x: datetime.weekday(x))\n",
    "    df = add_daily_call_volume_feat(df)\n",
    "    df = create_target_variable(df)\n",
    "    return df"
   ],
   "metadata": {
    "collapsed": false,
    "pycharm": {
     "name": "#%%\n"
    }
   }
  },
  {
   "cell_type": "markdown",
   "source": [
    "# Training"
   ],
   "metadata": {
    "collapsed": false,
    "pycharm": {
     "name": "#%% md\n"
    }
   }
  },
  {
   "cell_type": "code",
   "execution_count": null,
   "outputs": [],
   "source": [
    "class SFD_Train:\n",
    "    \"\"\"\n",
    "    class used for training the decision tree\n",
    "    \"\"\"\n",
    "    def __init__(self, df_train, y_train, classifier):\n",
    "        self.classifier = classifier\n",
    "        self.df_train = df_train\n",
    "        self.y_train = y_train\n",
    "        self.pipe = None\n",
    "        self.numerical_cols = df_train.select_dtypes('number').columns\n",
    "        self.categorical_cols = pd.Index(np.setdiff1d(df_train.columns, self.numerical_cols))\n",
    "\n",
    "    def create_pipe(self):\n",
    "        numerical_pipe = Pipeline([\n",
    "            ('scaler', StandardScaler())])\n",
    "\n",
    "        categorical_pipe = Pipeline([(\n",
    "            'encoder', OneHotEncoder(drop='first', handle_unknown='error'))])\n",
    "\n",
    "        preprocessors = ColumnTransformer(transformers=[\n",
    "            ('num', numerical_pipe, self.numerical_cols),\n",
    "            ('cat', categorical_pipe, self.categorical_cols)\n",
    "        ])\n",
    "\n",
    "        self.pipe = Pipeline([('preprocessors', preprocessors), ('tree', tree)])\n",
    "\n",
    "    def train(self):\n",
    "        self.pipe.fit(self.df_train, self.y_train)\n",
    "\n",
    "    def save_model(self, save_path):\n",
    "        joblib.dump(self.pipe, save_path)"
   ],
   "metadata": {
    "collapsed": false,
    "pycharm": {
     "name": "#%%\n"
    }
   }
  },
  {
   "cell_type": "markdown",
   "source": [
    "# Testing"
   ],
   "metadata": {
    "collapsed": false,
    "pycharm": {
     "name": "#%% md\n"
    }
   }
  },
  {
   "cell_type": "code",
   "execution_count": null,
   "outputs": [],
   "source": [
    "class SFD_Test:\n",
    "    \"\"\"\n",
    "    class used to test the trained decision tree\n",
    "    \"\"\"\n",
    "    def __init__(self, a):\n",
    "        self.df_train = a.df_train\n",
    "        self.y_train = a.y_train\n",
    "        self.df_test = a.df_test\n",
    "        self.y_test = a.y_test\n",
    "\n",
    "    def load_model(self, path):\n",
    "        self.pipe = joblib.load(path)\n",
    "\n",
    "    def eval_on_train(self):\n",
    "        train_loss = mean_squared_error(self.y_train, self.pipe.predict(self.df_train))\n",
    "        train_R2_score = self.pipe.score(self.df_train, self.y_train)\n",
    "        print('Training MSE Loss: {} \\n Test R2 score {}'.format(train_loss, train_R2_score))\n",
    "\n",
    "    def eval_on_test(self):\n",
    "        self.test_pred = self.pipe.predict(self.df_test)\n",
    "        test_loss = mean_squared_error(self.y_test, self.test_pred)\n",
    "        test_R2_score  = self.pipe.score(self.df_test, self.y_test)\n",
    "        print('Test MSE Loss: {} \\n Test R2 score {}'.format(test_loss, test_R2_score))\n",
    "\n",
    "    def plot_results(self):\n",
    "        df = pd.concat([self.df_test, self.y_test], axis=1) # useful to get Hourly Call Volume according to hours and days\n",
    "        df.reset_index(inplace=True)\n",
    "        y_test_2 = self.y_test.reset_index(drop=True)\n",
    "        indices = []\n",
    "        # Get Hourly Call Volume for 1st week of March'19\n",
    "        for day in range(1,8):\n",
    "            for hour in range(0,24):\n",
    "                indices.append(df[(df[\"Month\"]==3) & (df[\"Day\"]==day) & (df[\"Hour\"]==hour)][\"Hourly Call Volume\"].index[0])\n",
    "\n",
    "        plt.plot(np.arange(7*24), y_test_2[indices])\n",
    "        plt.plot(np.arange(7*24), self.test_pred[indices])\n",
    "        plt.xlabel(\"Hour\")\n",
    "        plt.ylabel(\"Call Volume\")\n",
    "        plt.title(\"Hourly Call Volume 1st week of March'19\")\n",
    "        plt.legend([\"True\", \"Prediction\"])\n",
    "        plt.savefig(\"Hourly Call Volume 1st week March'19.png\")\n",
    "        plt.show()"
   ],
   "metadata": {
    "collapsed": false,
    "pycharm": {
     "name": "#%%\n"
    }
   }
  },
  {
   "cell_type": "markdown",
   "source": [
    "# Preprocessing"
   ],
   "metadata": {
    "collapsed": false,
    "pycharm": {
     "name": "#%% md\n"
    }
   }
  },
  {
   "cell_type": "code",
   "execution_count": null,
   "outputs": [],
   "source": [
    "a = SFD_Set(\"C:/Users/phili/Downloads/Seattle_Real_Time_Fire_911_Calls.csv\")\n",
    "a.split_datetime()\n",
    "a.drop_null_values()\n",
    "a.start_year(2014)\n",
    "a.df = create_features(a.df)\n",
    "a.drop_redundant_cols()\n",
    "a.train_test_split(2019)"
   ],
   "metadata": {
    "collapsed": false,
    "pycharm": {
     "name": "#%%\n"
    }
   }
  },
  {
   "cell_type": "markdown",
   "source": [
    "# Training"
   ],
   "metadata": {
    "collapsed": false,
    "pycharm": {
     "name": "#%% md\n"
    }
   }
  },
  {
   "cell_type": "code",
   "execution_count": null,
   "outputs": [],
   "source": [
    "tree = AdaBoostRegressor(\n",
    "    DecisionTreeRegressor(max_depth=5), n_estimators=300, random_state=np.random.RandomState(1))\n",
    "b = SFD_Train(a.df_train,a.y_train, tree)\n",
    "b.create_pipe()\n",
    "b.train()\n",
    "b.save_model(\"./dec_tree_pipe.joblib\")"
   ],
   "metadata": {
    "collapsed": false,
    "pycharm": {
     "name": "#%%\n"
    }
   }
  },
  {
   "cell_type": "markdown",
   "source": [
    "# Testing"
   ],
   "metadata": {
    "collapsed": false,
    "pycharm": {
     "name": "#%% md\n"
    }
   }
  },
  {
   "cell_type": "code",
   "execution_count": null,
   "outputs": [],
   "source": [
    "c = SFD_Test(a)\n",
    "c.load_model(\"./dec_tree_pipe.joblib\")\n",
    "c.eval_on_train()\n",
    "c.eval_on_test()\n",
    "c.plot_results()"
   ],
   "metadata": {
    "collapsed": false,
    "pycharm": {
     "name": "#%%\n"
    }
   }
  }
 ],
 "metadata": {
  "kernelspec": {
   "display_name": "Python 3 (ipykernel)",
   "language": "python",
   "name": "python3"
  },
  "language_info": {
   "codemirror_mode": {
    "name": "ipython",
    "version": 3
   },
   "file_extension": ".py",
   "mimetype": "text/x-python",
   "name": "python",
   "nbconvert_exporter": "python",
   "pygments_lexer": "ipython3",
   "version": "3.9.7"
  }
 },
 "nbformat": 4,
 "nbformat_minor": 1
}